{
 "cells": [
  {
   "cell_type": "code",
   "execution_count": 1,
   "metadata": {},
   "outputs": [],
   "source": [
    "import pandas as pd\n",
    "import numpy as np\n",
    "users=[\n",
    "        {\"id\":0,\"name\": 'Saqib'},\n",
    "        {\"id\":1,\"name\": 'Abid'},\n",
    "        {\"id\":2,\"name\": 'Muza'},\n",
    "        {\"id\":3,\"name\": 'Mustaq'},\n",
    "        {\"id\":4,\"name\": 'Sai'},\n",
    "        {\"id\":5,\"name\": 'Taha'},\n",
    "        {\"id\":6,\"name\": 'Umair'}\n",
    "        ]\n",
    "friendship = [(0,1),(0,2),(0,3),(0,4),(0,5),(0,6),\n",
    "              (1,2),(1,3),(1,4),(1,5),\n",
    "              (2,3),(2,4),(2,5),\n",
    "              (3,4),(5,6)]"
   ]
  },
  {
   "cell_type": "code",
   "execution_count": 2,
   "metadata": {},
   "outputs": [
    {
     "name": "stdout",
     "output_type": "stream",
     "text": [
      "[{'id': 0, 'name': 'Saqib'}, {'id': 1, 'name': 'Abid'}, {'id': 2, 'name': 'Muza'}, {'id': 3, 'name': 'Mustaq'}, {'id': 4, 'name': 'Sai'}, {'id': 5, 'name': 'Taha'}, {'id': 6, 'name': 'Umair'}]\n"
     ]
    }
   ],
   "source": [
    "print(users)\n",
    "friendship\n",
    "df = pd.DataFrame(users)\n",
    "df[\"Friends\"]=''"
   ]
  },
  {
   "cell_type": "code",
   "execution_count": 3,
   "metadata": {},
   "outputs": [
    {
     "data": {
      "text/html": [
       "<div>\n",
       "<style scoped>\n",
       "    .dataframe tbody tr th:only-of-type {\n",
       "        vertical-align: middle;\n",
       "    }\n",
       "\n",
       "    .dataframe tbody tr th {\n",
       "        vertical-align: top;\n",
       "    }\n",
       "\n",
       "    .dataframe thead th {\n",
       "        text-align: right;\n",
       "    }\n",
       "</style>\n",
       "<table border=\"1\" class=\"dataframe\">\n",
       "  <thead>\n",
       "    <tr style=\"text-align: right;\">\n",
       "      <th></th>\n",
       "      <th>id</th>\n",
       "      <th>name</th>\n",
       "      <th>Friends</th>\n",
       "    </tr>\n",
       "  </thead>\n",
       "  <tbody>\n",
       "    <tr>\n",
       "      <th>0</th>\n",
       "      <td>0</td>\n",
       "      <td>Saqib</td>\n",
       "      <td></td>\n",
       "    </tr>\n",
       "    <tr>\n",
       "      <th>1</th>\n",
       "      <td>1</td>\n",
       "      <td>Abid</td>\n",
       "      <td></td>\n",
       "    </tr>\n",
       "    <tr>\n",
       "      <th>2</th>\n",
       "      <td>2</td>\n",
       "      <td>Muza</td>\n",
       "      <td></td>\n",
       "    </tr>\n",
       "    <tr>\n",
       "      <th>3</th>\n",
       "      <td>3</td>\n",
       "      <td>Mustaq</td>\n",
       "      <td></td>\n",
       "    </tr>\n",
       "    <tr>\n",
       "      <th>4</th>\n",
       "      <td>4</td>\n",
       "      <td>Sai</td>\n",
       "      <td></td>\n",
       "    </tr>\n",
       "    <tr>\n",
       "      <th>5</th>\n",
       "      <td>5</td>\n",
       "      <td>Taha</td>\n",
       "      <td></td>\n",
       "    </tr>\n",
       "    <tr>\n",
       "      <th>6</th>\n",
       "      <td>6</td>\n",
       "      <td>Umair</td>\n",
       "      <td></td>\n",
       "    </tr>\n",
       "  </tbody>\n",
       "</table>\n",
       "</div>"
      ],
      "text/plain": [
       "   id    name Friends\n",
       "0   0   Saqib        \n",
       "1   1    Abid        \n",
       "2   2    Muza        \n",
       "3   3  Mustaq        \n",
       "4   4     Sai        \n",
       "5   5    Taha        \n",
       "6   6   Umair        "
      ]
     },
     "execution_count": 3,
     "metadata": {},
     "output_type": "execute_result"
    }
   ],
   "source": [
    "df\n"
   ]
  },
  {
   "cell_type": "code",
   "execution_count": 8,
   "metadata": {},
   "outputs": [
    {
     "name": "stdout",
     "output_type": "stream",
     "text": [
      "['']\n",
      "['']\n",
      "['']\n",
      "['']\n",
      "['']\n",
      "['']\n",
      "['']\n",
      "['']\n",
      "['']\n",
      "['']\n",
      "['']\n",
      "['']\n",
      "['']\n",
      "['']\n",
      "['']\n"
     ]
    }
   ],
   "source": [
    "for i, j in friendship:\n",
    "    print(df[df['id']==i]['Friends'].values)\n",
    "    "
   ]
  },
  {
   "cell_type": "code",
   "execution_count": 10,
   "metadata": {
    "scrolled": true
   },
   "outputs": [
    {
     "data": {
      "text/html": [
       "<div>\n",
       "<style scoped>\n",
       "    .dataframe tbody tr th:only-of-type {\n",
       "        vertical-align: middle;\n",
       "    }\n",
       "\n",
       "    .dataframe tbody tr th {\n",
       "        vertical-align: top;\n",
       "    }\n",
       "\n",
       "    .dataframe thead th {\n",
       "        text-align: right;\n",
       "    }\n",
       "</style>\n",
       "<table border=\"1\" class=\"dataframe\">\n",
       "  <thead>\n",
       "    <tr style=\"text-align: right;\">\n",
       "      <th></th>\n",
       "      <th>id</th>\n",
       "      <th>name</th>\n",
       "      <th>Friends</th>\n",
       "    </tr>\n",
       "  </thead>\n",
       "  <tbody>\n",
       "    <tr>\n",
       "      <th>0</th>\n",
       "      <td>0</td>\n",
       "      <td>Saqib</td>\n",
       "      <td>Abid,Muza,Mustaq,Sai,Taha,Umair</td>\n",
       "    </tr>\n",
       "    <tr>\n",
       "      <th>1</th>\n",
       "      <td>1</td>\n",
       "      <td>Abid</td>\n",
       "      <td>Saqib,Muza,Mustaq,Sai,Taha</td>\n",
       "    </tr>\n",
       "    <tr>\n",
       "      <th>2</th>\n",
       "      <td>2</td>\n",
       "      <td>Muza</td>\n",
       "      <td>Saqib,Abid,Mustaq,Sai,Taha</td>\n",
       "    </tr>\n",
       "    <tr>\n",
       "      <th>3</th>\n",
       "      <td>3</td>\n",
       "      <td>Mustaq</td>\n",
       "      <td>Saqib,Abid,Muza,Sai</td>\n",
       "    </tr>\n",
       "    <tr>\n",
       "      <th>4</th>\n",
       "      <td>4</td>\n",
       "      <td>Sai</td>\n",
       "      <td>Saqib,Abid,Muza,Mustaq</td>\n",
       "    </tr>\n",
       "    <tr>\n",
       "      <th>5</th>\n",
       "      <td>5</td>\n",
       "      <td>Taha</td>\n",
       "      <td>Saqib,Abid,Muza,Umair</td>\n",
       "    </tr>\n",
       "    <tr>\n",
       "      <th>6</th>\n",
       "      <td>6</td>\n",
       "      <td>Umair</td>\n",
       "      <td>Saqib,Taha</td>\n",
       "    </tr>\n",
       "  </tbody>\n",
       "</table>\n",
       "</div>"
      ],
      "text/plain": [
       "   id    name                          Friends\n",
       "0   0   Saqib  Abid,Muza,Mustaq,Sai,Taha,Umair\n",
       "1   1    Abid       Saqib,Muza,Mustaq,Sai,Taha\n",
       "2   2    Muza       Saqib,Abid,Mustaq,Sai,Taha\n",
       "3   3  Mustaq              Saqib,Abid,Muza,Sai\n",
       "4   4     Sai           Saqib,Abid,Muza,Mustaq\n",
       "5   5    Taha            Saqib,Abid,Muza,Umair\n",
       "6   6   Umair                       Saqib,Taha"
      ]
     },
     "execution_count": 10,
     "metadata": {},
     "output_type": "execute_result"
    }
   ],
   "source": [
    "df"
   ]
  },
  {
   "cell_type": "code",
   "execution_count": 9,
   "metadata": {},
   "outputs": [],
   "source": [
    "\n",
    "for i, j in friendship:\n",
    "    #users[i][\"friends\"].append(users[j]['name']) # add i as a friend of j\n",
    "    #users[j][\"friends\"].append(users[i]['name']) # add j as a friend of i \n",
    "    if (df[df['id']==i]['Friends'].values) == '':\n",
    "         \n",
    "         df.iloc[df[df['id']==i].index[0],2] = df[df['id']==j]['name'].values\n",
    "    else:\n",
    "         df.iloc[df[df['id']==i].index[0],2]= df.iloc[i,2]+','+df[df['id']==j]['name'].values\n",
    "    if (df[df['id']==j]['Friends'].values) == '':\n",
    "         \n",
    "         df.iloc[j,2] = df[df['id']==i]['name'].values\n",
    "    else:\n",
    "         df.iloc[j,2]= df.iloc[j,2]+','+df[df['id']==i]['name'].values\n"
   ]
  },
  {
   "cell_type": "code",
   "execution_count": 182,
   "metadata": {},
   "outputs": [],
   "source": [
    "def mutual(user, Friends):\n",
    " FrndList = []\n",
    " for other_user in Friends:\n",
    "       if other_user in list(df.iloc[df[df['name']==user].index[0],2].split(\",\")):\n",
    "        print(\"%s and %s are already Friends\"%(user,other_user))\n",
    "       else:\n",
    "        for i in list(df.iloc[df[df['name']==user].index[0],2].split(\",\")):\n",
    "        \n",
    "            if other_user in list(df.iloc[df[df['name']==i].index[0],2].split(\",\")):\n",
    "            \n",
    "                FrndList.append(i)\n",
    "        if len(FrndList)==0:\n",
    "            print(\"No Mutual Friends between them\")\n",
    "        else:\n",
    "            stri = \",\".join(FrndList)\n",
    "            print(\"%s may know %s throgh one of his friends %s\" %(user,other_user,stri))\n"
   ]
  },
  {
   "cell_type": "code",
   "execution_count": 184,
   "metadata": {},
   "outputs": [
    {
     "name": "stdout",
     "output_type": "stream",
     "text": [
      "Sai and Muza are already Friends\n",
      "Sai may know Taha throgh one of his friends Saqib,Abid,Muza\n"
     ]
    }
   ],
   "source": [
    "mutual('Sai',['Muza','Taha'])"
   ]
  },
  {
   "cell_type": "code",
   "execution_count": null,
   "metadata": {},
   "outputs": [],
   "source": []
  }
 ],
 "metadata": {
  "kernelspec": {
   "display_name": "Python 3",
   "language": "python",
   "name": "python3"
  },
  "language_info": {
   "codemirror_mode": {
    "name": "ipython",
    "version": 3
   },
   "file_extension": ".py",
   "mimetype": "text/x-python",
   "name": "python",
   "nbconvert_exporter": "python",
   "pygments_lexer": "ipython3",
   "version": "3.7.3"
  }
 },
 "nbformat": 4,
 "nbformat_minor": 2
}
